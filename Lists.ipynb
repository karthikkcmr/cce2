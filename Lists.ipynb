{
 "cells": [
  {
   "cell_type": "code",
   "execution_count": 1,
   "id": "4d77d0d2",
   "metadata": {},
   "outputs": [
    {
     "name": "stdout",
     "output_type": "stream",
     "text": [
      "list1[2] :  400\n",
      "list2[1:5] :  [2, 3]\n",
      "list2[0:7] :  [1, 2, 3, 4, 5, 6, 7]\n",
      "list[0:6] :  [1, 2, 3, 4, 5, 6]\n"
     ]
    }
   ],
   "source": [
    "list1 = ['pastel', 'oil', 400, 500]\n",
    "list2 = [1,2,3,4,5,6,7]\n",
    "print(\"list1[2] : \",list1[2])\n",
    "print(\"list2[1:5] : \",list2[1:3])\n",
    "print(\"list2[0:7] : \",list2[0:7])\n",
    "print(\"list[0:6] : \",list2[0:6])\n"
   ]
  },
  {
   "cell_type": "code",
   "execution_count": 2,
   "id": "becad00b",
   "metadata": {},
   "outputs": [
    {
     "name": "stdout",
     "output_type": "stream",
     "text": [
      "value at index 2 :  1997\n",
      "new value at index 2 :  45678976\n"
     ]
    },
    {
     "ename": "IndexError",
     "evalue": "list assignment index out of range",
     "output_type": "error",
     "traceback": [
      "\u001b[0;31m---------------------------------------------------------------------------\u001b[0m",
      "\u001b[0;31mIndexError\u001b[0m                                Traceback (most recent call last)",
      "\u001b[0;32m<ipython-input-2-8c9cca606fd6>\u001b[0m in \u001b[0;36m<module>\u001b[0;34m\u001b[0m\n\u001b[1;32m      3\u001b[0m \u001b[0mlist\u001b[0m\u001b[0;34m[\u001b[0m\u001b[0;36m2\u001b[0m\u001b[0;34m]\u001b[0m \u001b[0;34m=\u001b[0m \u001b[0;36m45678976\u001b[0m\u001b[0;34m\u001b[0m\u001b[0;34m\u001b[0m\u001b[0m\n\u001b[1;32m      4\u001b[0m \u001b[0mprint\u001b[0m\u001b[0;34m(\u001b[0m\u001b[0;34m\"new value at index 2 : \"\u001b[0m\u001b[0;34m,\u001b[0m\u001b[0mlist\u001b[0m\u001b[0;34m[\u001b[0m\u001b[0;36m2\u001b[0m\u001b[0;34m]\u001b[0m\u001b[0;34m)\u001b[0m\u001b[0;34m\u001b[0m\u001b[0;34m\u001b[0m\u001b[0m\n\u001b[0;32m----> 5\u001b[0;31m \u001b[0mlist\u001b[0m\u001b[0;34m[\u001b[0m\u001b[0;36m4\u001b[0m\u001b[0;34m]\u001b[0m \u001b[0;34m=\u001b[0m \u001b[0;36m4654\u001b[0m\u001b[0;34m\u001b[0m\u001b[0;34m\u001b[0m\u001b[0m\n\u001b[0m",
      "\u001b[0;31mIndexError\u001b[0m: list assignment index out of range"
     ]
    }
   ],
   "source": [
    "list = ['physic', 'chemistry', 1997, 2000]\n",
    "print(\"value at index 2 : \",list[2])\n",
    "list[2] = 45678976\n",
    "print(\"new value at index 2 : \",list[2])\n",
    "list[4] = 4654"
   ]
  },
  {
   "cell_type": "code",
   "execution_count": 3,
   "id": "e34d2317",
   "metadata": {},
   "outputs": [
    {
     "name": "stdout",
     "output_type": "stream",
     "text": [
      "['physics', 'chemistry', 24785, 4786]\n",
      "after deleting value at index 1 : \n",
      "['physics', 24785, 4786]\n",
      "[24785]\n",
      "[]\n"
     ]
    }
   ],
   "source": [
    "list = ['physics', 'chemistry', 24785, 4786]\n",
    "print(list)\n",
    "del(list[1])\n",
    "print(\"after deleting value at index 1 : \")\n",
    "print(list)\n",
    "del(list[0])\n",
    "del(list[1])\n",
    "print(list)\n",
    "del(list[0])\n",
    "print(list)"
   ]
  },
  {
   "cell_type": "code",
   "execution_count": 4,
   "id": "e4d5817a",
   "metadata": {},
   "outputs": [
    {
     "name": "stdout",
     "output_type": "stream",
     "text": [
      "length of list1 :  4\n",
      "length of list2 :  3\n"
     ]
    }
   ],
   "source": [
    "list1, list2 = [1, 'abc', '3', 'efg'], [324,3454,'jhkj']\n",
    "print(\"length of list1 : \",len(list1))\n",
    "print(\"length of list2 : \",len(list2))"
   ]
  },
  {
   "cell_type": "code",
   "execution_count": 5,
   "id": "63fd77f9",
   "metadata": {},
   "outputs": [
    {
     "name": "stdout",
     "output_type": "stream",
     "text": [
      "list :  [1, 2, 'usha', 'asha', 465]\n",
      "updated list :  [1, 2, 'usha', 'asha', 465, 214356]\n"
     ]
    }
   ],
   "source": [
    "list = [1, 2, 'usha', 'asha', 465]\n",
    "print(\"list : \",list)\n",
    "list.append(214356)\n",
    "print(\"updated list : \",list)\n"
   ]
  },
  {
   "cell_type": "code",
   "execution_count": 6,
   "id": "fd7a84fd",
   "metadata": {},
   "outputs": [
    {
     "name": "stdout",
     "output_type": "stream",
     "text": [
      "count for b :  2\n",
      "count for 5 :  1\n"
     ]
    }
   ],
   "source": [
    "list = ['b', 'b', 'c', 3, 5, 3]\n",
    "print(\"count for b : \",list.count('b'))\n",
    "print(\"count for 5 : \",list.count(5))"
   ]
  },
  {
   "cell_type": "code",
   "execution_count": 7,
   "id": "847ef495",
   "metadata": {},
   "outputs": [
    {
     "name": "stdout",
     "output_type": "stream",
     "text": [
      "list1 before extension :  [123, 'usha', 'asha', 325, 'abc']\n",
      "extended list :  [123, 'usha', 'asha', 325, 'abc', 32543, 'fdfdbg']\n"
     ]
    }
   ],
   "source": [
    "list1 = [123, 'usha', 'asha', 325, 'abc']\n",
    "print(\"list1 before extension : \",list1)\n",
    "list2 = [32543, 'fdfdbg']\n",
    "list1.extend(list2)\n",
    "print(\"extended list : \",list1)\n"
   ]
  },
  {
   "cell_type": "code",
   "execution_count": 8,
   "id": "8cee73ba",
   "metadata": {},
   "outputs": [
    {
     "name": "stdout",
     "output_type": "stream",
     "text": [
      "index for 12 :  0\n",
      "index for 4 :  5\n"
     ]
    },
    {
     "ename": "ValueError",
     "evalue": "435 is not in list",
     "output_type": "error",
     "traceback": [
      "\u001b[0;31m---------------------------------------------------------------------------\u001b[0m",
      "\u001b[0;31mValueError\u001b[0m                                Traceback (most recent call last)",
      "\u001b[0;32m<ipython-input-8-c7d1c236ffba>\u001b[0m in \u001b[0;36m<module>\u001b[0;34m\u001b[0m\n\u001b[1;32m      2\u001b[0m \u001b[0mprint\u001b[0m\u001b[0;34m(\u001b[0m\u001b[0;34m\"index for 12 : \"\u001b[0m\u001b[0;34m,\u001b[0m\u001b[0mlist\u001b[0m\u001b[0;34m.\u001b[0m\u001b[0mindex\u001b[0m\u001b[0;34m(\u001b[0m\u001b[0;36m12\u001b[0m\u001b[0;34m)\u001b[0m\u001b[0;34m)\u001b[0m\u001b[0;34m\u001b[0m\u001b[0;34m\u001b[0m\u001b[0m\n\u001b[1;32m      3\u001b[0m \u001b[0mprint\u001b[0m\u001b[0;34m(\u001b[0m\u001b[0;34m\"index for 4 : \"\u001b[0m\u001b[0;34m,\u001b[0m \u001b[0mlist\u001b[0m\u001b[0;34m.\u001b[0m\u001b[0mindex\u001b[0m\u001b[0;34m(\u001b[0m\u001b[0;36m4\u001b[0m\u001b[0;34m)\u001b[0m\u001b[0;34m)\u001b[0m\u001b[0;34m\u001b[0m\u001b[0;34m\u001b[0m\u001b[0m\n\u001b[0;32m----> 4\u001b[0;31m \u001b[0mprint\u001b[0m\u001b[0;34m(\u001b[0m\u001b[0;34m\"index for 435 : \"\u001b[0m\u001b[0;34m,\u001b[0m\u001b[0mlist\u001b[0m\u001b[0;34m.\u001b[0m\u001b[0mindex\u001b[0m\u001b[0;34m(\u001b[0m\u001b[0;36m435\u001b[0m\u001b[0;34m)\u001b[0m\u001b[0;34m)\u001b[0m\u001b[0;34m\u001b[0m\u001b[0;34m\u001b[0m\u001b[0m\n\u001b[0m",
      "\u001b[0;31mValueError\u001b[0m: 435 is not in list"
     ]
    }
   ],
   "source": [
    "list = [12, 'usha', 'asha', 'twisha', 3, 4]\n",
    "print(\"index for 12 : \",list.index(12))\n",
    "print(\"index for 4 : \", list.index(4))\n",
    "print(\"index for 435 : \",list.index(435))"
   ]
  },
  {
   "cell_type": "code",
   "execution_count": 9,
   "id": "db68e4e6",
   "metadata": {},
   "outputs": [
    {
     "name": "stdout",
     "output_type": "stream",
     "text": [
      "initial list :  [123, 'usha', 'abc', 'asha', 345]\n",
      "final list :  [123, 'usha', 'rani', 'abc', 'asha', 345]\n",
      "list :  [123, 'usha', 'rani', 'abc', 'asha', 345, 678]\n"
     ]
    }
   ],
   "source": [
    "list = [123, 'usha', 'abc', 'asha', 345]\n",
    "print(\"initial list : \",list)\n",
    "list.insert(2, 'rani')\n",
    "print(\"final list : \",list)\n",
    "list.insert(6, 678)\n",
    "print(\"list : \",list)\n"
   ]
  },
  {
   "cell_type": "code",
   "execution_count": 10,
   "id": "07b3bacb",
   "metadata": {},
   "outputs": [
    {
     "name": "stdout",
     "output_type": "stream",
     "text": [
      "[123, 'usha', 'ahsa', 'cmr', 4, 5, 6, 7]\n",
      "list after popping last element :  7\n",
      "[123, 'usha', 'ahsa', 'cmr', 4, 5, 6]\n",
      "list after popping element from mentioned index :  usha\n",
      "[123, 'ahsa', 'cmr', 4, 5, 6]\n"
     ]
    }
   ],
   "source": [
    "list = [123, 'usha', 'ahsa', 'cmr', 4, 5, 6, 7]\n",
    "print(list)\n",
    "print(\"list after popping last element : \",list.pop())\n",
    "print(list)\n",
    "print(\"list after popping element from mentioned index : \",list.pop(1))\n",
    "print(list)\n"
   ]
  },
  {
   "cell_type": "code",
   "execution_count": 11,
   "id": "638ecc62",
   "metadata": {},
   "outputs": [
    {
     "name": "stdout",
     "output_type": "stream",
     "text": [
      "[123, 'xyz', 'gumiho', 'fox', 465]\n",
      "['xyz', 'gumiho', 'fox', 465]\n"
     ]
    },
    {
     "ename": "AttributeError",
     "evalue": "'list' object has no attribute 'remover'",
     "output_type": "error",
     "traceback": [
      "\u001b[0;31m---------------------------------------------------------------------------\u001b[0m",
      "\u001b[0;31mAttributeError\u001b[0m                            Traceback (most recent call last)",
      "\u001b[0;32m<ipython-input-11-85ffaa26807d>\u001b[0m in \u001b[0;36m<module>\u001b[0;34m\u001b[0m\n\u001b[1;32m      3\u001b[0m \u001b[0mlist\u001b[0m\u001b[0;34m.\u001b[0m\u001b[0mremove\u001b[0m\u001b[0;34m(\u001b[0m\u001b[0;36m123\u001b[0m\u001b[0;34m)\u001b[0m\u001b[0;34m\u001b[0m\u001b[0;34m\u001b[0m\u001b[0m\n\u001b[1;32m      4\u001b[0m \u001b[0mprint\u001b[0m\u001b[0;34m(\u001b[0m\u001b[0mlist\u001b[0m\u001b[0;34m)\u001b[0m\u001b[0;34m\u001b[0m\u001b[0;34m\u001b[0m\u001b[0m\n\u001b[0;32m----> 5\u001b[0;31m \u001b[0mlist\u001b[0m\u001b[0;34m.\u001b[0m\u001b[0mremover\u001b[0m\u001b[0;34m(\u001b[0m\u001b[0;34m'asdfds'\u001b[0m\u001b[0;34m)\u001b[0m\u001b[0;34m\u001b[0m\u001b[0;34m\u001b[0m\u001b[0m\n\u001b[0m\u001b[1;32m      6\u001b[0m \u001b[0mprint\u001b[0m\u001b[0;34m(\u001b[0m\u001b[0mlist\u001b[0m\u001b[0;34m)\u001b[0m\u001b[0;34m\u001b[0m\u001b[0;34m\u001b[0m\u001b[0m\n",
      "\u001b[0;31mAttributeError\u001b[0m: 'list' object has no attribute 'remover'"
     ]
    }
   ],
   "source": [
    "list = [123, 'xyz', 'gumiho', 'fox', 465]\n",
    "print(list)\n",
    "list.remove(123)\n",
    "print(list)\n",
    "list.remover('asdfds')\n",
    "print(list)"
   ]
  },
  {
   "cell_type": "code",
   "execution_count": 12,
   "id": "81ea1590",
   "metadata": {},
   "outputs": [
    {
     "name": "stdout",
     "output_type": "stream",
     "text": [
      "['playfull', 'flowers', 'beauty']\n",
      "['beauty', 'flowers', 'playfull']\n"
     ]
    }
   ],
   "source": [
    "list = ['playfull', 'flowers', 'beauty']\n",
    "print(list)\n",
    "list.reverse()\n",
    "print(list)"
   ]
  },
  {
   "cell_type": "code",
   "execution_count": 13,
   "id": "673f68c9",
   "metadata": {},
   "outputs": [
    {
     "name": "stdout",
     "output_type": "stream",
     "text": [
      "unsorted list :  ['eighteen', 'gangnam', 'arya', 'garage']\n",
      "sorted list :  ['arya', 'eighteen', 'gangnam', 'garage']\n"
     ]
    }
   ],
   "source": [
    "list = ['eighteen', 'gangnam', 'arya', 'garage']\n",
    "print(\"unsorted list : \",list)\n",
    "list.sort()\n",
    "print(\"sorted list : \",list)\n"
   ]
  },
  {
   "cell_type": "code",
   "execution_count": 14,
   "id": "d1360d52",
   "metadata": {},
   "outputs": [
    {
     "ename": "TypeError",
     "evalue": "'<' not supported between instances of 'str' and 'int'",
     "output_type": "error",
     "traceback": [
      "\u001b[0;31m---------------------------------------------------------------------------\u001b[0m",
      "\u001b[0;31mTypeError\u001b[0m                                 Traceback (most recent call last)",
      "\u001b[0;32m<ipython-input-14-2bf08e11f13f>\u001b[0m in \u001b[0;36m<module>\u001b[0;34m\u001b[0m\n\u001b[1;32m      1\u001b[0m \u001b[0mlist\u001b[0m \u001b[0;34m=\u001b[0m \u001b[0;34m[\u001b[0m\u001b[0;36m1\u001b[0m\u001b[0;34m,\u001b[0m \u001b[0;34m'a'\u001b[0m\u001b[0;34m,\u001b[0m \u001b[0;34m'b'\u001b[0m\u001b[0;34m]\u001b[0m\u001b[0;34m\u001b[0m\u001b[0;34m\u001b[0m\u001b[0m\n\u001b[0;32m----> 2\u001b[0;31m \u001b[0mlist\u001b[0m\u001b[0;34m.\u001b[0m\u001b[0msort\u001b[0m\u001b[0;34m(\u001b[0m\u001b[0;34m)\u001b[0m\u001b[0;34m\u001b[0m\u001b[0;34m\u001b[0m\u001b[0m\n\u001b[0m\u001b[1;32m      3\u001b[0m \u001b[0mprint\u001b[0m\u001b[0;34m(\u001b[0m\u001b[0mlist\u001b[0m\u001b[0;34m)\u001b[0m\u001b[0;34m\u001b[0m\u001b[0;34m\u001b[0m\u001b[0m\n",
      "\u001b[0;31mTypeError\u001b[0m: '<' not supported between instances of 'str' and 'int'"
     ]
    }
   ],
   "source": [
    "list = [1, 'a', 'b']\n",
    "list.sort()\n",
    "print(list)"
   ]
  },
  {
   "cell_type": "code",
   "execution_count": 15,
   "id": "cf62e463",
   "metadata": {},
   "outputs": [
    {
     "name": "stdout",
     "output_type": "stream",
     "text": [
      "2 * 1 = 2\n",
      "2 * 2 = 4\n",
      "2 * 3 = 6\n",
      "2 * 4 = 8\n",
      "2 * 5 = 10\n"
     ]
    }
   ],
   "source": [
    "list = [1,2,3,4,5]\n",
    "n=2\n",
    "for i in list:\n",
    " c = n*i\n",
    " print(n,\"*\", i, \"=\", c)"
   ]
  },
  {
   "cell_type": "code",
   "execution_count": 16,
   "id": "616892b1",
   "metadata": {},
   "outputs": [
    {
     "name": "stdout",
     "output_type": "stream",
     "text": [
      "sum =  15\n"
     ]
    }
   ],
   "source": [
    "list = [1, 2, 3, 4, 5]\n",
    "sum = 0\n",
    "for i in list:\n",
    " sum = sum+i\n",
    "print(\"sum = \",sum)\n"
   ]
  },
  {
   "cell_type": "code",
   "execution_count": null,
   "id": "c2679b76",
   "metadata": {},
   "outputs": [],
   "source": []
  },
  {
   "cell_type": "code",
   "execution_count": null,
   "id": "f47375bb",
   "metadata": {},
   "outputs": [],
   "source": []
  },
  {
   "cell_type": "code",
   "execution_count": null,
   "id": "174731d2",
   "metadata": {},
   "outputs": [],
   "source": []
  },
  {
   "cell_type": "code",
   "execution_count": 20,
   "id": "5b670a04",
   "metadata": {},
   "outputs": [
    {
     "name": "stdout",
     "output_type": "stream",
     "text": [
      "hello usha\n",
      "hello asha\n",
      "hello abc\n"
     ]
    }
   ],
   "source": [
    "list = ['usha', 'asha', 'abc']\n",
    "for i in range(len(list)):\n",
    " print(\"hello\", list[i])\n"
   ]
  },
  {
   "cell_type": "code",
   "execution_count": null,
   "id": "59cb61c1",
   "metadata": {},
   "outputs": [],
   "source": []
  },
  {
   "cell_type": "code",
   "execution_count": null,
   "id": "89a13e48",
   "metadata": {},
   "outputs": [],
   "source": []
  }
 ],
 "metadata": {
  "kernelspec": {
   "display_name": "Python 3",
   "language": "python",
   "name": "python3"
  },
  "language_info": {
   "codemirror_mode": {
    "name": "ipython",
    "version": 3
   },
   "file_extension": ".py",
   "mimetype": "text/x-python",
   "name": "python",
   "nbconvert_exporter": "python",
   "pygments_lexer": "ipython3",
   "version": "3.6.13"
  }
 },
 "nbformat": 4,
 "nbformat_minor": 5
}
