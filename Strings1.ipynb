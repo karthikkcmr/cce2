{
 "cells": [
  {
   "cell_type": "code",
   "execution_count": 1,
   "id": "a5ebf6ab",
   "metadata": {},
   "outputs": [
    {
     "name": "stdout",
     "output_type": "stream",
     "text": [
      "Hello World!   Welcome to the coding world !!\n"
     ]
    }
   ],
   "source": [
    "str1 = 'Hello World!'\n",
    "str2 = \"Welcome to the coding world !!\"\n",
    "print(str1,\" \",str2)"
   ]
  },
  {
   "cell_type": "code",
   "execution_count": 4,
   "id": "f080051c",
   "metadata": {},
   "outputs": [
    {
     "name": "stdout",
     "output_type": "stream",
     "text": [
      "Hello World!   Welcome to the coding world !!\n",
      "H\n",
      "Welcome\n"
     ]
    }
   ],
   "source": [
    "str1 = 'Hello World!'\n",
    "str2 = \"Welcome to the coding world !!\"\n",
    "print(str1,\" \",str2)\n",
    "\n",
    "print (str1[0])\n",
    "\n",
    "print (str2[0:7])"
   ]
  },
  {
   "cell_type": "code",
   "execution_count": 6,
   "id": "32c86d58",
   "metadata": {},
   "outputs": [
    {
     "name": "stdout",
     "output_type": "stream",
     "text": [
      "Updated String :-  Hello I am ROBO 2.O\n"
     ]
    }
   ],
   "source": [
    "str1 = 'Hello World!'\n",
    "print (\"Updated String :- \", str1[0:6] + 'I am ROBO 2.O')"
   ]
  },
  {
   "cell_type": "code",
   "execution_count": 17,
   "id": "bba26562",
   "metadata": {},
   "outputs": [
    {
     "name": "stdout",
     "output_type": "stream",
     "text": [
      "Enter a String : Kotha Usha Rani\n",
      "The Final String : Str2  =  Kotha Usha Rani\n",
      "The Final String : Str3  = =  Kotha Usha Rani\n",
      "The Final String : Str4  = =  tha \n",
      "The Final String : Str4  = =  K\n",
      "The Final String : Str4  = =  \n"
     ]
    }
   ],
   "source": [
    "str1 = input(\"Enter a String : \")\n",
    "\n",
    "str2 = str1\n",
    "str3 = str1[:]\n",
    "str4 = str1[2:6]\n",
    "str5 = str1[0:1]\n",
    "str6 = str1[16:19]\n",
    "\n",
    "print(\"The Final String : Str2  = \", str2)\n",
    "print(\"The Final String : Str3  = = \", str3)\n",
    "print(\"The Final String : Str4  = = \", str4)\n",
    "print(\"The Final String : Str4  = = \", str5)\n",
    "print(\"The Final String : Str4  = = \", str6)"
   ]
  },
  {
   "cell_type": "code",
   "execution_count": 22,
   "id": "b00a1558",
   "metadata": {},
   "outputs": [
    {
     "name": "stdout",
     "output_type": "stream",
     "text": [
      "str.capitalize() :  A programming in python\n"
     ]
    }
   ],
   "source": [
    "#Python String capitalize() method returns a copy of the string with only its first character capitalized.\n",
    "\n",
    "str = \"a programming in python\"\n",
    "print (\"str.capitalize() : \", str.capitalize())"
   ]
  },
  {
   "cell_type": "code",
   "execution_count": 24,
   "id": "fe5a5d06",
   "metadata": {},
   "outputs": [
    {
     "name": "stdout",
     "output_type": "stream",
     "text": [
      "str.center(20, 'a') :  *************CMR University*************\n"
     ]
    }
   ],
   "source": [
    "#center() returns centered in a string of length width. Padding is done using the specified fillchar. Default filler is a space.\n",
    "\n",
    "str = \"CMR University\"\n",
    "print (\"str.center(20, 'a') : \", str.center(40, '*'))"
   ]
  },
  {
   "cell_type": "code",
   "execution_count": 25,
   "id": "6dc0d0ac",
   "metadata": {},
   "outputs": [
    {
     "name": "stdout",
     "output_type": "stream",
     "text": [
      "str.count(sub, 4, 40) :  4\n",
      "str.count(sub) :  2\n"
     ]
    }
   ],
   "source": [
    "#count() returns the number of occurrences of substring sub in the range [start, end]. \n",
    "#str.count(sub, start= 0,end=len(string))\n",
    "\n",
    "str = \"There was a sea fish in the sea\"\n",
    "sub = \"s\"\n",
    "print (\"str.count(sub, 4, 40) : \", str.count(sub, 4, 40))\n",
    "sub = \"sea\"\n",
    "print (\"str.count(sub) : \", str.count(sub))"
   ]
  },
  {
   "cell_type": "code",
   "execution_count": 28,
   "id": "8bca62fd",
   "metadata": {},
   "outputs": [
    {
     "name": "stdout",
     "output_type": "stream",
     "text": [
      "9\n",
      "-1\n",
      "14\n"
     ]
    }
   ],
   "source": [
    "#find() determines if string str occurs in string, or in a substring of string if starting index beg and ending index end are given.\n",
    "#str.find(str, beg=0, end=len(string))\n",
    "\n",
    "str1 = \"A string is a group of characters\";\n",
    "str2 = \"is\";\n",
    "str3 = \"group\"\n",
    "\n",
    "print (str1.find(str2))\n",
    "print (str1.find(str2, 10))\n",
    "print (str1.find(str3, 10))"
   ]
  },
  {
   "cell_type": "code",
   "execution_count": 29,
   "id": "7136238f",
   "metadata": {},
   "outputs": [
    {
     "name": "stdout",
     "output_type": "stream",
     "text": [
      "10\n",
      "10\n"
     ]
    }
   ],
   "source": [
    "#index() determines if string str occurs in string or in a substring of string if starting index beg and ending index end are given.\n",
    "\n",
    "str1 = \"Paint the portrait\";\n",
    "str2 = \"portrait\";\n",
    "\n",
    "print (str1.index(str2))\n",
    "print (str1.index(str2, 10,32))\n"
   ]
  },
  {
   "cell_type": "code",
   "execution_count": 32,
   "id": "ae757134",
   "metadata": {},
   "outputs": [
    {
     "name": "stdout",
     "output_type": "stream",
     "text": [
      "True\n",
      "True\n",
      "True\n",
      "False\n"
     ]
    }
   ],
   "source": [
    "#isalnum() checks whether the string consists of alphanumeric characters.\n",
    "\n",
    "str = \"usha412\";  # No space in this string\n",
    "print (str.isalnum())\n",
    "\n",
    "str = \"usha\";\n",
    "print (str.isalnum())\n",
    "\n",
    "str = \"13324\"\n",
    "print(str.isalnum())\n",
    "\n",
    "str = \"dsg dsdsf\"\n",
    "print(str.isalnum())"
   ]
  },
  {
   "cell_type": "code",
   "execution_count": 35,
   "id": "1140623e",
   "metadata": {},
   "outputs": [
    {
     "name": "stdout",
     "output_type": "stream",
     "text": [
      "True\n",
      "False\n",
      "False\n"
     ]
    }
   ],
   "source": [
    "str = \"pythonProgram\"\n",
    "print (str.isalpha())\n",
    "\n",
    "str = \"hello everyone\"\n",
    "print (str.isalpha())\n",
    "\n",
    "str = \"635746\"\n",
    "print(str.isalpha())"
   ]
  },
  {
   "cell_type": "code",
   "execution_count": null,
   "id": "176ff8b9",
   "metadata": {},
   "outputs": [],
   "source": []
  }
 ],
 "metadata": {
  "kernelspec": {
   "display_name": "Python 3",
   "language": "python",
   "name": "python3"
  },
  "language_info": {
   "codemirror_mode": {
    "name": "ipython",
    "version": 3
   },
   "file_extension": ".py",
   "mimetype": "text/x-python",
   "name": "python",
   "nbconvert_exporter": "python",
   "pygments_lexer": "ipython3",
   "version": "3.6.13"
  }
 },
 "nbformat": 4,
 "nbformat_minor": 5
}
