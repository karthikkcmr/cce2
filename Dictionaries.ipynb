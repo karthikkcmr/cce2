{
 "cells": [
  {
   "cell_type": "code",
   "execution_count": 1,
   "id": "f5d72057",
   "metadata": {},
   "outputs": [
    {
     "name": "stdout",
     "output_type": "stream",
     "text": [
      "usha\n",
      "CSE\n",
      "{'name': 'usha', 'college': 'CMR University', 'course': 'CSE'}\n"
     ]
    }
   ],
   "source": [
    "dict = {'name':'usha', 'college':'CMR University', 'course':'CSE'}\n",
    "print(dict['name'])\n",
    "print(dict['course'])\n",
    "print(dict)\n"
   ]
  },
  {
   "cell_type": "code",
   "execution_count": 2,
   "id": "6a9b4ac8",
   "metadata": {},
   "outputs": [
    {
     "name": "stdout",
     "output_type": "stream",
     "text": [
      "{'name': 'usha', 'college': 'CMR University', 'course': 'CSE'}\n",
      "After making changes : \n",
      "{'name': 'kotha suha rani', 'college': 'Stanford', 'course': 'CSE'}\n"
     ]
    }
   ],
   "source": [
    "dict = {'name':'usha', 'college':'CMR University', 'course':'CSE'}\n",
    "print(dict)\n",
    "dict['name'] = 'kotha suha rani'\n",
    "dict['college'] = 'Stanford'\n",
    "print(\"After making changes : \")\n",
    "print(dict)"
   ]
  },
  {
   "cell_type": "code",
   "execution_count": 3,
   "id": "f7ee87e3",
   "metadata": {},
   "outputs": [
    {
     "name": "stdout",
     "output_type": "stream",
     "text": [
      "{'name': 'usha', 'college': 'CMR University'}\n",
      "{}\n"
     ]
    }
   ],
   "source": [
    "dict = {'name':'usha', 'college':'CMR University', 'course':'CSE'}\n",
    "del dict['course']\n",
    "print(dict)\n",
    "dict.clear()\n",
    "print(dict)\n"
   ]
  },
  {
   "cell_type": "code",
   "execution_count": 5,
   "id": "ecefa73e",
   "metadata": {},
   "outputs": [
    {
     "name": "stdout",
     "output_type": "stream",
     "text": [
      "usha\n",
      "COLLEGE\n",
      "2\n"
     ]
    }
   ],
   "source": [
    "dict = {'name':'usha', 'college':'CMR University','college':'CMR', 'college':'COLLEGE'}\n",
    "print(dict['name'])\n",
    "print(dict['college'])\n",
    "print(len(dict))"
   ]
  },
  {
   "cell_type": "code",
   "execution_count": 6,
   "id": "dd95001f",
   "metadata": {},
   "outputs": [
    {
     "name": "stdout",
     "output_type": "stream",
     "text": [
      "{'name': 'usha', 'college': 'CMR University', 'course': 'CSE'}\n",
      "\n",
      "dict_values(['usha', 'CMR University', 'CSE'])\n",
      "dict_items([('name', 'usha'), ('college', 'CMR University'), ('course', 'CSE')])\n",
      "dict_keys(['name', 'college', 'course'])\n"
     ]
    }
   ],
   "source": [
    "dict = {'name':'usha', 'college':'CMR University', 'course':'CSE'}\n",
    "print(dict)\n",
    "print()\n",
    "print(dict.values())\n",
    "print(dict.items())\n",
    "print(dict.keys())\n"
   ]
  },
  {
   "cell_type": "code",
   "execution_count": 7,
   "id": "1aa28c35",
   "metadata": {},
   "outputs": [
    {
     "name": "stdout",
     "output_type": "stream",
     "text": [
      "usha\n",
      "INDIA\n",
      "usha\n",
      "usha\n"
     ]
    }
   ],
   "source": [
    "dict = {'name':'usha', 'college':'CMR University', 'course':'CSE'}\n",
    "print(dict['name'])\n",
    "print(dict.get('place',\"INDIA\"))\n",
    "print(dict.get('name',\"kotha\"))\n",
    "print(dict.get('name'))"
   ]
  },
  {
   "cell_type": "code",
   "execution_count": 8,
   "id": "d0d9135e",
   "metadata": {},
   "outputs": [
    {
     "name": "stdout",
     "output_type": "stream",
     "text": [
      "{'name': 'usha', 'college': 'CMR University', 'course': 'CSE'}\n",
      "3\n",
      "\n",
      "{'name': 'usha', 'college': 'CMR University', 'course': 'CSE'}\n",
      "3\n"
     ]
    }
   ],
   "source": [
    "dict = {'name':'usha', 'college':'CMR University', 'course':'CSE'}\n",
    "print(dict)\n",
    "print(len(dict))\n",
    "print()\n",
    "dict2 = dict.copy()\n",
    "print(dict2)\n",
    "print(len(dict2))"
   ]
  },
  {
   "cell_type": "code",
   "execution_count": 9,
   "id": "3609a1c2",
   "metadata": {},
   "outputs": [
    {
     "name": "stdout",
     "output_type": "stream",
     "text": [
      "{'name': 'usha', 'college': 'CMR University', 'course': 'CSE'}\n",
      "\n",
      "{'place': 'INDIA', 'planet': 'Earth'}\n",
      "\n",
      "{'name': 'usha', 'college': 'CMR University', 'course': 'CSE', 'place': 'INDIA', 'planet': 'Earth'}\n"
     ]
    }
   ],
   "source": [
    "dict1 = {'name':'usha', 'college':'CMR University', 'course':'CSE'}\n",
    "dict2 = {'place':'INDIA', 'planet':'Earth'}\n",
    "print(dict1)\n",
    "print()\n",
    "print(dict2)\n",
    "print()\n",
    "dict1.update(dict2)\n",
    "print(dict1)"
   ]
  },
  {
   "cell_type": "code",
   "execution_count": null,
   "id": "0d95dc1b",
   "metadata": {},
   "outputs": [],
   "source": []
  }
 ],
 "metadata": {
  "kernelspec": {
   "display_name": "Python 3",
   "language": "python",
   "name": "python3"
  },
  "language_info": {
   "codemirror_mode": {
    "name": "ipython",
    "version": 3
   },
   "file_extension": ".py",
   "mimetype": "text/x-python",
   "name": "python",
   "nbconvert_exporter": "python",
   "pygments_lexer": "ipython3",
   "version": "3.6.13"
  }
 },
 "nbformat": 4,
 "nbformat_minor": 5
}
