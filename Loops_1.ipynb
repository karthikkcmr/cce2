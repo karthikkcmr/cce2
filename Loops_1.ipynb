{
 "cells": [
  {
   "cell_type": "code",
   "execution_count": 1,
   "id": "b2001dd2",
   "metadata": {},
   "outputs": [
    {
     "name": "stdout",
     "output_type": "stream",
     "text": [
      "u\n",
      "s\n",
      "h\n",
      "a\n"
     ]
    }
   ],
   "source": [
    "str =\"usha\"\n",
    "for i in str:\n",
    " print(i)\n"
   ]
  },
  {
   "cell_type": "code",
   "execution_count": 2,
   "id": "1bed98ac",
   "metadata": {},
   "outputs": [
    {
     "name": "stdout",
     "output_type": "stream",
     "text": [
      "2 * 1 = 2\n",
      "2 * 2 = 4\n",
      "2 * 3 = 6\n",
      "2 * 4 = 8\n",
      "2 * 5 = 10\n"
     ]
    }
   ],
   "source": [
    "list = [1,2,3,4,5]\n",
    "n=2\n",
    "for i in list:\n",
    " c = n*i\n",
    " print(n,\"*\", i, \"=\", c)\n"
   ]
  },
  {
   "cell_type": "code",
   "execution_count": 3,
   "id": "3baeff76",
   "metadata": {},
   "outputs": [
    {
     "name": "stdout",
     "output_type": "stream",
     "text": [
      "sum =  15\n"
     ]
    }
   ],
   "source": [
    "list = [1, 2, 3, 4, 5]\n",
    "sum = 0\n",
    "for i in list:\n",
    " sum = sum+i\n",
    "print(\"sum = \",sum)\n"
   ]
  },
  {
   "cell_type": "code",
   "execution_count": 4,
   "id": "dabffbb9",
   "metadata": {},
   "outputs": [
    {
     "name": "stdout",
     "output_type": "stream",
     "text": [
      "0 1 2 3 \n",
      "\n",
      "0-1-2-3-4-"
     ]
    }
   ],
   "source": [
    "for i in range(4):\n",
    " print(i, end=' ')\n",
    "print(\"\\n\")\n",
    "for i in range(5):\n",
    " print(i, end=\"-\")"
   ]
  },
  {
   "cell_type": "code",
   "execution_count": 5,
   "id": "928d6691",
   "metadata": {},
   "outputs": [
    {
     "name": "stdout",
     "output_type": "stream",
     "text": [
      "Enter the number 4\n",
      "4 * 1 = 4\n",
      "4 * 2 = 8\n",
      "4 * 3 = 12\n",
      "4 * 4 = 16\n",
      "4 * 5 = 20\n",
      "4 * 6 = 24\n",
      "4 * 7 = 28\n",
      "4 * 8 = 32\n",
      "4 * 9 = 36\n",
      "4 * 10 = 40\n"
     ]
    }
   ],
   "source": [
    "n= int(input(\"Enter the number \"))\n",
    "for i in range(1, 11):\n",
    " c = n*i\n",
    " print(n,\"*\",i,\"=\",c)\n"
   ]
  },
  {
   "cell_type": "code",
   "execution_count": 6,
   "id": "4d13c889",
   "metadata": {},
   "outputs": [
    {
     "name": "stdout",
     "output_type": "stream",
     "text": [
      "Enter the number : 8\n",
      "1\n",
      "3\n",
      "5\n",
      "7\n"
     ]
    }
   ],
   "source": [
    "n=int(input(\"Enter the number : \"))\n",
    "for i in range(1, n , 2):\n",
    " print(i)\n"
   ]
  },
  {
   "cell_type": "code",
   "execution_count": 7,
   "id": "de7fe529",
   "metadata": {},
   "outputs": [
    {
     "name": "stdout",
     "output_type": "stream",
     "text": [
      "hello usha\n",
      "hello asha\n",
      "hello abc\n"
     ]
    }
   ],
   "source": [
    "list = ['usha', 'asha', 'abc']\n",
    "for i in range(len(list)):\n",
    " print(\"hello\", list[i])\n"
   ]
  },
  {
   "cell_type": "code",
   "execution_count": 8,
   "id": "8df4c587",
   "metadata": {},
   "outputs": [
    {
     "name": "stdout",
     "output_type": "stream",
     "text": [
      "0\n",
      "1\n",
      "2\n",
      "3\n",
      "4\n",
      "5\n",
      "6\n",
      "7\n",
      "for loop completely exhausted since there is no break\n"
     ]
    }
   ],
   "source": [
    "for i in range(0,8):\n",
    " print(i)\n",
    "else:\n",
    " print(\"for loop completely exhausted since there is no break\")"
   ]
  },
  {
   "cell_type": "code",
   "execution_count": 9,
   "id": "6c4d1989",
   "metadata": {},
   "outputs": [
    {
     "name": "stdout",
     "output_type": "stream",
     "text": [
      "0\n",
      "byi\n",
      "1\n",
      "byi\n",
      "2\n",
      "byi\n",
      "3\n",
      "byi\n",
      "4\n",
      "byi\n",
      "5\n",
      "byi\n",
      "6\n",
      "byi\n",
      "7\n",
      "byi\n",
      "for loop is exhausted\n",
      "the loop is broken due to break statement\n"
     ]
    }
   ],
   "source": [
    "for i in range(0,8):\n",
    " print(i)\n",
    " print(\"byi\")\n",
    " continue\n",
    " print(\"hello\")\n",
    "else:\n",
    " print(\"for loop is exhausted\");\n",
    " print(\"the loop is broken due to break statement\")"
   ]
  },
  {
   "cell_type": "code",
   "execution_count": 11,
   "id": "ddd78063",
   "metadata": {},
   "outputs": [
    {
     "name": "stdout",
     "output_type": "stream",
     "text": [
      "usha\n",
      "enterd while loop before if statement \n",
      "entered if statement\n",
      "i increamented\n",
      "enterd while loop before if statement \n",
      "current letter :  s\n",
      "going back to starting of while loop\n",
      "enterd while loop before if statement \n",
      "current letter :  h\n",
      "going back to starting of while loop\n",
      "enterd while loop before if statement \n",
      "current letter :  a\n",
      "going back to starting of while loop\n"
     ]
    }
   ],
   "source": [
    "#print all letters except 'u'\n",
    "i=0\n",
    "str = 'usha'\n",
    "print(str)\n",
    "while i < len(str):\n",
    "    print(\"enterd while loop before if statement \")\n",
    "    if(str[i] == 'u'):\n",
    "        print(\"entered if statement\")\n",
    "        i+=1\n",
    "        print(\"i increamented\")\n",
    "        continue\n",
    "    print(\"current letter : \",str[i])\n",
    "    i+=1\n",
    "    print(\"going back to starting of while loop\")"
   ]
  },
  {
   "cell_type": "code",
   "execution_count": 12,
   "id": "e03a474d",
   "metadata": {},
   "outputs": [
    {
     "name": "stdout",
     "output_type": "stream",
     "text": [
      "Current letter :  u\n",
      "Current letter :  s\n",
      "Current letter :  h\n"
     ]
    }
   ],
   "source": [
    "i=0\n",
    "str = 'usha'\n",
    "while i < len(str):\n",
    "    if(str[i] == 'a'):\n",
    "        i+=1\n",
    "        break;\n",
    "    print(\"Current letter : \",str[i])\n",
    "    i+=1\n"
   ]
  },
  {
   "cell_type": "code",
   "execution_count": 13,
   "id": "205df8a8",
   "metadata": {},
   "outputs": [
    {
     "name": "stdout",
     "output_type": "stream",
     "text": [
      "value of i :  4\n"
     ]
    }
   ],
   "source": [
    "#pass stmt is used to declare the empty loop\n",
    "str = 'usha'\n",
    "i=0\n",
    "while i<len(str):\n",
    "    i+=1\n",
    "    pass\n",
    "print('value of i : ',i)"
   ]
  },
  {
   "cell_type": "code",
   "execution_count": 14,
   "id": "fc403511",
   "metadata": {},
   "outputs": [
    {
     "name": "stdout",
     "output_type": "stream",
     "text": [
      "1\n",
      "2\n",
      "3\n",
      "4\n",
      "5\n",
      "6\n",
      "7\n",
      "8\n",
      "9\n",
      "10\n"
     ]
    }
   ],
   "source": [
    "i=1\n",
    "while(i<11):\n",
    "    print(i)\n",
    "    i+=1\n"
   ]
  },
  {
   "cell_type": "code",
   "execution_count": null,
   "id": "25df2dac",
   "metadata": {},
   "outputs": [],
   "source": []
  }
 ],
 "metadata": {
  "kernelspec": {
   "display_name": "Python 3",
   "language": "python",
   "name": "python3"
  },
  "language_info": {
   "codemirror_mode": {
    "name": "ipython",
    "version": 3
   },
   "file_extension": ".py",
   "mimetype": "text/x-python",
   "name": "python",
   "nbconvert_exporter": "python",
   "pygments_lexer": "ipython3",
   "version": "3.6.13"
  }
 },
 "nbformat": 4,
 "nbformat_minor": 5
}
