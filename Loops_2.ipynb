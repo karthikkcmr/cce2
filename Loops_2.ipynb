{
 "cells": [
  {
   "cell_type": "code",
   "execution_count": 1,
   "id": "948c84cb",
   "metadata": {},
   "outputs": [
    {
     "name": "stdout",
     "output_type": "stream",
     "text": [
      "1\n",
      "2\n",
      "3\n",
      "4\n",
      "5\n",
      "loop exhausted\n"
     ]
    }
   ],
   "source": [
    "i=1\n",
    "while i<=5:\n",
    " print(i)\n",
    " i+=1\n",
    "else:\n",
    " print(\"loop exhausted\")"
   ]
  },
  {
   "cell_type": "code",
   "execution_count": 4,
   "id": "7042fc2a",
   "metadata": {},
   "outputs": [
    {
     "name": "stdout",
     "output_type": "stream",
     "text": [
      "1\n",
      "2\n",
      "3\n",
      "4\n",
      "5\n",
      "bye\n"
     ]
    }
   ],
   "source": [
    "i=1\n",
    "while i<=10:\n",
    "    print(i)\n",
    "    i+=1\n",
    "    if(i==6):\n",
    "        break\n",
    "else:\n",
    "    print(\"loop exhausted\")\n",
    "print(\"bye\")"
   ]
  },
  {
   "cell_type": "code",
   "execution_count": 5,
   "id": "aed9a4a5",
   "metadata": {},
   "outputs": [
    {
     "name": "stdout",
     "output_type": "stream",
     "text": [
      "item matched\n",
      "found at  3  location\n"
     ]
    }
   ],
   "source": [
    "list = [1, 2, 3, 4]\n",
    "i=1\n",
    "count = 1\n",
    "for i in list:\n",
    "    if i == 4:\n",
    "        print(\"item matched\")\n",
    "        count += 1\n",
    "        break\n",
    "print(\"found at \",count+1, \" location\")"
   ]
  },
  {
   "cell_type": "code",
   "execution_count": 6,
   "id": "ebcd8d17",
   "metadata": {},
   "outputs": [
    {
     "name": "stdout",
     "output_type": "stream",
     "text": [
      "u\n",
      "s\n"
     ]
    }
   ],
   "source": [
    "str = \"usha\"\n",
    "for i in str:\n",
    "    if i=='h':\n",
    "        break\n",
    "    print(i)"
   ]
  },
  {
   "cell_type": "code",
   "execution_count": 7,
   "id": "1a11a95f",
   "metadata": {},
   "outputs": [
    {
     "name": "stdout",
     "output_type": "stream",
     "text": [
      "2 x 1 = 2\n",
      "\n",
      "2 x 2 = 4\n",
      "\n",
      "2 x 3 = 6\n",
      "\n",
      "2 x 4 = 8\n",
      "\n",
      "2 x 5 = 10\n",
      "\n",
      "2 x 6 = 12\n",
      "\n",
      "2 x 7 = 14\n",
      "\n",
      "2 x 8 = 16\n",
      "\n",
      "2 x 9 = 18\n",
      "\n",
      "2 x 10 = 20\n",
      "\n",
      "Do u want to continue printing tables , enter 0 for no4\n",
      "3 x 1 = 3\n",
      "\n",
      "3 x 2 = 6\n",
      "\n",
      "3 x 3 = 9\n",
      "\n",
      "3 x 4 = 12\n",
      "\n",
      "3 x 5 = 15\n",
      "\n",
      "3 x 6 = 18\n",
      "\n",
      "3 x 7 = 21\n",
      "\n",
      "3 x 8 = 24\n",
      "\n",
      "3 x 9 = 27\n",
      "\n",
      "3 x 10 = 30\n",
      "\n",
      "Do u want to continue printing tables , enter 0 for no0\n"
     ]
    }
   ],
   "source": [
    "n=2\n",
    "while 1:\n",
    "    i=1\n",
    "    while i<=10:\n",
    "        print(\"%d x %d = %d\\n\"%(n,i,n*i))\n",
    "        i+=1\n",
    "    choice = int(input(\"Do u want to continue printing tables , enter 0 for no\"))\n",
    "    if(choice ==0 ):\n",
    "        break\n",
    "    n+=1\n"
   ]
  },
  {
   "cell_type": "code",
   "execution_count": 10,
   "id": "a6a530bf",
   "metadata": {},
   "outputs": [
    {
     "name": "stdout",
     "output_type": "stream",
     "text": [
      "1\n",
      "2\n",
      "3\n",
      "4\n",
      "6\n",
      "7\n",
      "8\n",
      "9\n",
      "10\n"
     ]
    }
   ],
   "source": [
    "i=0\n",
    "while i<10:\n",
    "    i+=1\n",
    "    if i== 5:\n",
    "        continue\n",
    "    print(i)\n",
    "\n"
   ]
  },
  {
   "cell_type": "code",
   "execution_count": 11,
   "id": "7c77a70f",
   "metadata": {},
   "outputs": [
    {
     "name": "stdout",
     "output_type": "stream",
     "text": [
      "u\n",
      "s\n",
      "a\n"
     ]
    }
   ],
   "source": [
    "str = \"usha\"\n",
    "for i in str :\n",
    "    if(i=='h'):\n",
    "        continue\n",
    "    print(i)\n"
   ]
  },
  {
   "cell_type": "code",
   "execution_count": 12,
   "id": "d60763af",
   "metadata": {},
   "outputs": [
    {
     "name": "stdout",
     "output_type": "stream",
     "text": [
      "Current element :  1 Current element :  2 Current element :  3 \n",
      "we are inside pass block\n",
      "\n",
      "\n",
      "Came out of pass\n",
      "Current element :  4 "
     ]
    }
   ],
   "source": [
    "list = [1, 2, 3, 4]\n",
    "flag = 0\n",
    "for i in list:\n",
    "    print(\"Current element : \",i, end=\" \")\n",
    "    if i==3:\n",
    "        pass\n",
    "        print(\"\\nwe are inside pass block\\n\")\n",
    "        flag = 1\n",
    "    if(flag == 1):\n",
    "        print(\"\\nCame out of pass\")\n",
    "        flag = 0\n"
   ]
  },
  {
   "cell_type": "code",
   "execution_count": 14,
   "id": "f7e72e91",
   "metadata": {},
   "outputs": [],
   "source": [
    "values = {'a', 'b', 'c', 'd'}\n",
    "for i in values:\n",
    " pass"
   ]
  },
  {
   "cell_type": "code",
   "execution_count": 15,
   "id": "bfd2d193",
   "metadata": {},
   "outputs": [
    {
     "name": "stdout",
     "output_type": "stream",
     "text": [
      "1\n",
      "pass block 2\n",
      "2\n",
      "3\n",
      "4\n",
      "5\n",
      "6\n"
     ]
    }
   ],
   "source": [
    "for i in [1,2,3,4,5,6]:\n",
    "    if(i==2):\n",
    "        pass\n",
    "        print(\"pass block\", i)\n",
    "    print(i)"
   ]
  },
  {
   "cell_type": "code",
   "execution_count": null,
   "id": "c27273e5",
   "metadata": {},
   "outputs": [],
   "source": []
  }
 ],
 "metadata": {
  "kernelspec": {
   "display_name": "Python 3",
   "language": "python",
   "name": "python3"
  },
  "language_info": {
   "codemirror_mode": {
    "name": "ipython",
    "version": 3
   },
   "file_extension": ".py",
   "mimetype": "text/x-python",
   "name": "python",
   "nbconvert_exporter": "python",
   "pygments_lexer": "ipython3",
   "version": "3.6.13"
  }
 },
 "nbformat": 4,
 "nbformat_minor": 5
}
