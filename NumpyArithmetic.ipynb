{
 "cells": [
  {
   "cell_type": "code",
   "execution_count": 1,
   "id": "4f73210c",
   "metadata": {},
   "outputs": [
    {
     "name": "stdout",
     "output_type": "stream",
     "text": [
      "Array arr1 =  8\n",
      "Array arr2 =  [10 20 30]\n",
      "Sum array =  [18 28 38]\n",
      "Diff array =  [ 2 12 22]\n",
      "Product array =  [ 80 160 240]\n",
      "Division =  [1.25 2.5  3.75]\n",
      "Divide by a number =  [1. 2. 3.]\n"
     ]
    }
   ],
   "source": [
    "import numpy as np\n",
    "arr1 = np.array(8)\n",
    "print(\"Array arr1 = \",arr1)\n",
    "arr2 = np.array([10,20,30])\n",
    "print(\"Array arr2 = \",arr2)\n",
    "\n",
    "add = np.add(arr1,arr2)\n",
    "print(\"Sum array = \",add)\n",
    "\n",
    "sub = np.subtract(arr2,arr1)\n",
    "print(\"Diff array = \",sub)\n",
    "\n",
    "product = np.multiply(arr1,arr2)\n",
    "print(\"Product array = \",product)\n",
    "\n",
    "div = np.divide(arr2, arr1)\n",
    "print(\"Division = \",div)\n",
    "\n",
    "divby = np.divide(arr2,10)\n",
    "print(\"Divide by a number = \",divby)"
   ]
  },
  {
   "cell_type": "code",
   "execution_count": 5,
   "id": "b4c503d3",
   "metadata": {},
   "outputs": [
    {
     "name": "stdout",
     "output_type": "stream",
     "text": [
      "[0.5 2.2 3.3]\n",
      "[2.         0.45454545 0.3030303 ]\n"
     ]
    }
   ],
   "source": [
    "arr = np.array([0.5,2.2,3.3])\n",
    "print(arr)\n",
    "\n",
    "rec = np.reciprocal(arr)\n",
    "print(rec)"
   ]
  },
  {
   "cell_type": "code",
   "execution_count": 12,
   "id": "3b890737",
   "metadata": {},
   "outputs": [
    {
     "name": "stdout",
     "output_type": "stream",
     "text": [
      "elements of arr =  [2 4 5]\n",
      "power of elements of arr =  [ 4 16 25]\n",
      "elemnts of array arr to the power of array arr2 =  [  2  16 125]\n"
     ]
    }
   ],
   "source": [
    "arr = np.array([2,4,5])\n",
    "print(\"elements of arr = \",arr)\n",
    "\n",
    "pow = np.power(arr,2)\n",
    "print(\"power of elements of arr = \",pow)\n",
    "\n",
    "arr2 = np.array([1,2,3])\n",
    "pow2 = np.power(arr,arr2)\n",
    "print(\"elemnts of array arr to the power of array arr2 = \",pow2)"
   ]
  },
  {
   "cell_type": "code",
   "execution_count": 15,
   "id": "9d9b703e",
   "metadata": {},
   "outputs": [
    {
     "name": "stdout",
     "output_type": "stream",
     "text": [
      "arr1 =  [10 20 30]\n",
      "arr2 =  [1 2 3]\n",
      "values of mod =  [0 0 0]\n",
      "values of remainder =  [0 0 0]\n"
     ]
    }
   ],
   "source": [
    "arr1 = np.array([10,20,30])\n",
    "arr2 = np.array([1,2,3])\n",
    "\n",
    "print(\"arr1 = \",arr1)\n",
    "print(\"arr2 = \",arr2)\n",
    "\n",
    "m = np.mod(arr1,arr2)\n",
    "print(\"values of mod = \",m)\n",
    "\n",
    "rm = np.remainder(arr1, arr2)\n",
    "print(\"values of remainder = \",rm)"
   ]
  },
  {
   "cell_type": "code",
   "execution_count": 18,
   "id": "3c429e73",
   "metadata": {},
   "outputs": [
    {
     "name": "stdout",
     "output_type": "stream",
     "text": [
      "[10.+0.j   0.+1.2j  2.+2.3j -0.-4.5j]\n",
      "real =  [10.  0.  2. -0.]\n",
      "imaginary =  [ 0.   1.2  2.3 -4.5]\n",
      "conjugate =  [10.-0.j   0.-1.2j  2.-2.3j -0.+4.5j]\n"
     ]
    }
   ],
   "source": [
    "arr = np.array([10, 1.2j, 2 + 2.3j, -4.5j])\n",
    "print(arr)\n",
    "\n",
    "print(\"real = \",np.real(arr))\n",
    "print(\"imaginary = \",np.imag(arr))\n",
    "print(\"conjugate = \", np.conj(arr))"
   ]
  },
  {
   "cell_type": "code",
   "execution_count": 21,
   "id": "43d19fc0",
   "metadata": {},
   "outputs": [
    {
     "name": "stdout",
     "output_type": "stream",
     "text": [
      "[1.24 2.34 4.5  6.7 ]\n",
      "after rounding up =  [1. 2. 4. 7.]\n",
      "after rounding up to 1st decimal place =  [1.2 2.3 4.5 6.7]\n"
     ]
    }
   ],
   "source": [
    "arr = np.array([1.24, 2.34, 4.5 ,6.7])\n",
    "print(arr)\n",
    "print(\"after rounding up = \",np.around(arr))\n",
    "print(\"after rounding up to 1st decimal place = \",np.around(arr,decimals = 1))"
   ]
  },
  {
   "cell_type": "code",
   "execution_count": 23,
   "id": "025814ff",
   "metadata": {},
   "outputs": [
    {
     "name": "stdout",
     "output_type": "stream",
     "text": [
      "[1.2  2.34 4.66]\n",
      "[1. 2. 4.]\n",
      "[2. 3. 5.]\n"
     ]
    }
   ],
   "source": [
    "arr = np.array([1.2, 2.34, 4.66])\n",
    "print(arr)\n",
    "print(np.floor(arr))\n",
    "print(np.ceil(arr))"
   ]
  },
  {
   "cell_type": "code",
   "execution_count": null,
   "id": "f27cee3c",
   "metadata": {},
   "outputs": [],
   "source": []
  }
 ],
 "metadata": {
  "kernelspec": {
   "display_name": "Python 3",
   "language": "python",
   "name": "python3"
  },
  "language_info": {
   "codemirror_mode": {
    "name": "ipython",
    "version": 3
   },
   "file_extension": ".py",
   "mimetype": "text/x-python",
   "name": "python",
   "nbconvert_exporter": "python",
   "pygments_lexer": "ipython3",
   "version": "3.6.13"
  }
 },
 "nbformat": 4,
 "nbformat_minor": 5
}
