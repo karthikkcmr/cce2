{
 "cells": [
  {
   "cell_type": "code",
   "execution_count": 2,
   "id": "c5b3c549",
   "metadata": {},
   "outputs": [
    {
     "name": "stdout",
     "output_type": "stream",
     "text": [
      "Welcome\n",
      "Enter usernameushakotha\n",
      "Enter password12345\n",
      "Username :  ushakotha\n",
      "Password :  12345\n",
      "Would you like to go with VEG or NON-VEG, press 1 for VEG, or press 2 for NON-VEG\n",
      "Enter your choice : 1\n",
      "Menu : \n",
      "1. Meals\n",
      "2. Veg Biryani\n",
      "3. Kesari Bath\n",
      "Enter your order?1\n",
      "Your order is Meals.\n",
      "Thank you! Your order is being processed.It will be delivered in 30 minutes.\n"
     ]
    }
   ],
   "source": [
    "def loginDetails(name, password):\n",
    " print(\"Username : \",username)\n",
    " print(\"Password : \",password)\n",
    " return\n",
    "def veg():\n",
    " print(\"Menu : \")\n",
    " print(\"1. Meals\")\n",
    " print(\"2. Veg Biryani\")\n",
    " print(\"3. Kesari Bath\")\n",
    " # print(\"Order?\")\n",
    " item = int(input(\"Enter your order?\"))\n",
    " if(item == 1):\n",
    "     print(\"Your order is Meals.\")\n",
    " elif item == 2:\n",
    "     print(\"Your order is Veg Biryani.\")\n",
    " elif item == 3:\n",
    "     print(\"Your order is Keari Bath.\")\n",
    " print(\"Thank you! Your order is being processed.It will be delivered in 30 minutes.\")\n",
    " \n",
    " return\n",
    "def nonVeg():\n",
    " print(\"Menu : \")\n",
    " print(\"1. Chicken Kabab\")\n",
    " print(\"2. Chicken Biryani\")\n",
    " print(\"3. Fish Fry\")\n",
    " item = int(input(\"Enter your order?\"))\n",
    " if(item == 1):\n",
    "     print(\"Your order is Chicken Kabab.\")\n",
    " elif item == 2:\n",
    "     print(\"Your order is Chicken Biryani.\")\n",
    " elif item == 3:\n",
    "     print(\"Your order is Fish Fry.\")\n",
    " print(\"Thank you! Your order is being processed.It will be delivered in 30 minutes.\")\n",
    " \n",
    " return\n",
    "print(\"Welcome\")\n",
    "username = input(\"Enter username\")\n",
    "password = input(\"Enter password\")\n",
    "loginDetails(username, password)\n",
    "print(\"Would you like to go with VEG or NON-VEG, press 1 for VEG, or press 2 for NON-VEG\")\n",
    "choice = int(input(\"Enter your choice : \"))\n",
    "if(choice == 1):\n",
    " veg()\n",
    "elif(choice == 2):\n",
    " nonVeg()\n",
    "else:\n",
    " print(\"Enter valid option\")"
   ]
  }
 ],
 "metadata": {
  "kernelspec": {
   "display_name": "Python 3",
   "language": "python",
   "name": "python3"
  },
  "language_info": {
   "codemirror_mode": {
    "name": "ipython",
    "version": 3
   },
   "file_extension": ".py",
   "mimetype": "text/x-python",
   "name": "python",
   "nbconvert_exporter": "python",
   "pygments_lexer": "ipython3",
   "version": "3.6.13"
  }
 },
 "nbformat": 4,
 "nbformat_minor": 5
}
