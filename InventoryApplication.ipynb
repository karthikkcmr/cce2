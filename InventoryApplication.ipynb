{
 "cells": [
  {
   "cell_type": "code",
   "execution_count": 4,
   "id": "68319c26",
   "metadata": {},
   "outputs": [
    {
     "name": "stdout",
     "output_type": "stream",
     "text": [
      "Welcome!\n",
      "Enter the item you want ? or enter 0 to exitkeyboard\n",
      "Types of keyboards available are : \n",
      "['ktype1', 'ktype2', 'ktype3', 'ktype4']\n",
      "Enter the type of keyboard you want ?ktype1\n",
      "Number of keyboard left in the store are :  3\n",
      "Do u want to addd any new items ?\n",
      "Enter your choice y/n : y\n",
      "Enter the item to add : mouse\n",
      "New list of Mouse :  ['M1', 'M2', 'M3', 'mouse']\n"
     ]
    }
   ],
   "source": [
    "print(\"Welcome!\")\n",
    "listKeyBoard = ['ktype1', 'ktype2', 'ktype3', 'ktype4']\n",
    "listMouse = ['M1', 'M2', 'M3']\n",
    "listMonitor = ['Mt100', 'Mt200','Mt300']\n",
    "listcpu = ['New10', 'old20']\n",
    "item = input(\"Enter the item you want ? or enter 0 to exit\")\n",
    "if item =='keyboard': \n",
    " print(\"Types of keyboards available are : \")\n",
    " print(listKeyBoard)\n",
    " choice = input(\"Enter the type of keyboard you want ?\")\n",
    " listKeyBoard.remove(choice)\n",
    " print(\"Number of keyboard left in the store are : \",len(listKeyBoard))\n",
    "elif item == 'mouse':\n",
    " print(\"Wait\")\n",
    "print(\"Do u want to addd any new items ?\")\n",
    "ch = input(\"Enter your choice y/n : \")\n",
    "if ch == 'n' :\n",
    " printf(\"Bye!\")\n",
    "else:\n",
    " newItem = input(\"Enter the item to add : \")\n",
    " if newItem == 'keyboard' :\n",
    "     listKeyBoard.append(newItem)\n",
    "     print(\"New list of keyboards : \",listKeyBoard)\n",
    " elif newItem == 'mouse':\n",
    "     listMouse.append(newItem)\n",
    "     print(\"New list of Mouse : \",listMouse)\n"
   ]
  }
 ],
 "metadata": {
  "kernelspec": {
   "display_name": "Python 3",
   "language": "python",
   "name": "python3"
  },
  "language_info": {
   "codemirror_mode": {
    "name": "ipython",
    "version": 3
   },
   "file_extension": ".py",
   "mimetype": "text/x-python",
   "name": "python",
   "nbconvert_exporter": "python",
   "pygments_lexer": "ipython3",
   "version": "3.6.13"
  }
 },
 "nbformat": 4,
 "nbformat_minor": 5
}
