{
 "cells": [
  {
   "cell_type": "code",
   "execution_count": 1,
   "id": "b0ffc9fd",
   "metadata": {},
   "outputs": [
    {
     "name": "stdout",
     "output_type": "stream",
     "text": [
      "('CSE', 'IT', 'MECHANICAL', 'CIVIL')\n",
      "(1, 2, 3, 4, 5)\n",
      "('usha', 'kotha')\n",
      "(1, 2, 3, 4)\n"
     ]
    }
   ],
   "source": [
    "tup1 = ('CSE','IT','MECHANICAL','CIVIL')\n",
    "print(tup1)\n",
    "tup2 = (1,2,3,4,5)\n",
    "print(tup2)\n",
    "tup3 = \"usha\",\"kotha\"\n",
    "print(tup3)\n",
    "tup4 = 1,2,3,4\n",
    "print(tup4)\n"
   ]
  },
  {
   "cell_type": "code",
   "execution_count": 2,
   "id": "3a17dc10",
   "metadata": {},
   "outputs": [
    {
     "name": "stdout",
     "output_type": "stream",
     "text": [
      "()\n",
      "(1, 2, 3, 4, 5)\n"
     ]
    },
    {
     "ename": "NameError",
     "evalue": "name 'tup5' is not defined",
     "output_type": "error",
     "traceback": [
      "\u001b[0;31m---------------------------------------------------------------------------\u001b[0m",
      "\u001b[0;31mNameError\u001b[0m                                 Traceback (most recent call last)",
      "\u001b[0;32m<ipython-input-2-ec1a2340b6e3>\u001b[0m in \u001b[0;36m<module>\u001b[0;34m\u001b[0m\n\u001b[1;32m      3\u001b[0m \u001b[0mprint\u001b[0m\u001b[0;34m(\u001b[0m\u001b[0mtup1\u001b[0m\u001b[0;34m)\u001b[0m\u001b[0;34m\u001b[0m\u001b[0;34m\u001b[0m\u001b[0m\n\u001b[1;32m      4\u001b[0m \u001b[0mprint\u001b[0m\u001b[0;34m(\u001b[0m\u001b[0mtup2\u001b[0m\u001b[0;34m)\u001b[0m\u001b[0;34m\u001b[0m\u001b[0;34m\u001b[0m\u001b[0m\n\u001b[0;32m----> 5\u001b[0;31m \u001b[0mtup5\u001b[0m\u001b[0;34m\u001b[0m\u001b[0;34m\u001b[0m\u001b[0m\n\u001b[0m\u001b[1;32m      6\u001b[0m \u001b[0mprint\u001b[0m\u001b[0;34m(\u001b[0m\u001b[0mtup5\u001b[0m\u001b[0;34m)\u001b[0m\u001b[0;34m\u001b[0m\u001b[0;34m\u001b[0m\u001b[0m\n",
      "\u001b[0;31mNameError\u001b[0m: name 'tup5' is not defined"
     ]
    }
   ],
   "source": [
    "tup1 = ()\n",
    "tup2\n",
    "print(tup1)\n",
    "print(tup2)\n",
    "tup5\n",
    "print(tup5)\n"
   ]
  },
  {
   "cell_type": "code",
   "execution_count": 3,
   "id": "dd03926c",
   "metadata": {},
   "outputs": [
    {
     "name": "stdout",
     "output_type": "stream",
     "text": [
      "a\n",
      "('a', 'b', 'c')\n"
     ]
    }
   ],
   "source": [
    "tup2 = ('a')\n",
    "print(tup2)\n",
    "tup1 = ('a','b','c')\n",
    "print(tup1)\n"
   ]
  },
  {
   "cell_type": "code",
   "execution_count": 4,
   "id": "ad4cfad8",
   "metadata": {},
   "outputs": [
    {
     "name": "stdout",
     "output_type": "stream",
     "text": [
      "CSE\n",
      "CIVIL\n",
      "('CSE', 'IT', 'MECHANICAL', 'CIVIL')\n",
      "('CSE', 'IT', 'MECHANICAL', 'CIVIL')\n",
      "('CSE', 'IT')\n"
     ]
    }
   ],
   "source": [
    "tup1 = ('CSE','IT','MECHANICAL','CIVIL')\n",
    "print(tup1[0])\n",
    "print(tup1[3])\n",
    "print(tup1[0:4])\n",
    "print(tup1[0:6])\n",
    "print(tup1[0:2])\n"
   ]
  },
  {
   "cell_type": "code",
   "execution_count": 5,
   "id": "cb3feb02",
   "metadata": {},
   "outputs": [
    {
     "name": "stdout",
     "output_type": "stream",
     "text": [
      "('a', 'b')\n"
     ]
    },
    {
     "ename": "NameError",
     "evalue": "name 'tup' is not defined",
     "output_type": "error",
     "traceback": [
      "\u001b[0;31m---------------------------------------------------------------------------\u001b[0m",
      "\u001b[0;31mNameError\u001b[0m                                 Traceback (most recent call last)",
      "\u001b[0;32m<ipython-input-5-77f3a87751c8>\u001b[0m in \u001b[0;36m<module>\u001b[0;34m\u001b[0m\n\u001b[1;32m      2\u001b[0m \u001b[0mprint\u001b[0m\u001b[0;34m(\u001b[0m\u001b[0mtup\u001b[0m\u001b[0;34m)\u001b[0m\u001b[0;34m\u001b[0m\u001b[0;34m\u001b[0m\u001b[0m\n\u001b[1;32m      3\u001b[0m \u001b[0;32mdel\u001b[0m\u001b[0;34m(\u001b[0m\u001b[0mtup\u001b[0m\u001b[0;34m)\u001b[0m\u001b[0;34m\u001b[0m\u001b[0;34m\u001b[0m\u001b[0m\n\u001b[0;32m----> 4\u001b[0;31m \u001b[0mprint\u001b[0m\u001b[0;34m(\u001b[0m\u001b[0mtup\u001b[0m\u001b[0;34m)\u001b[0m\u001b[0;34m\u001b[0m\u001b[0;34m\u001b[0m\u001b[0m\n\u001b[0m",
      "\u001b[0;31mNameError\u001b[0m: name 'tup' is not defined"
     ]
    }
   ],
   "source": [
    "tup = ('a','b')\n",
    "print(tup)\n",
    "del(tup)\n",
    "print(tup)\n"
   ]
  },
  {
   "cell_type": "code",
   "execution_count": 6,
   "id": "69337f7b",
   "metadata": {},
   "outputs": [
    {
     "name": "stdout",
     "output_type": "stream",
     "text": [
      "('CSE', 'IT', 'MECHANICAL', 'CIVIL')\n",
      "(1, 2, 3, 4)\n",
      "('CSE', 'IT', 'MECHANICAL', 'CIVIL', 1, 2, 3, 4)\n"
     ]
    }
   ],
   "source": [
    "tup1 = ('CSE','IT','MECHANICAL','CIVIL')\n",
    "print(tup1)\n",
    "tup2 = (1,2,3,4)\n",
    "print(tup2)\n",
    "tup3 = tup1 + tup2 \n",
    "print(tup3)\n"
   ]
  },
  {
   "cell_type": "code",
   "execution_count": 7,
   "id": "1998dd88",
   "metadata": {},
   "outputs": [
    {
     "name": "stdout",
     "output_type": "stream",
     "text": [
      "('CSE', 'IT', 'MECHANICAL', 'CIVIL')\n",
      "CIVIL\n"
     ]
    },
    {
     "ename": "TypeError",
     "evalue": "'tuple' object does not support item assignment",
     "output_type": "error",
     "traceback": [
      "\u001b[0;31m---------------------------------------------------------------------------\u001b[0m",
      "\u001b[0;31mTypeError\u001b[0m                                 Traceback (most recent call last)",
      "\u001b[0;32m<ipython-input-7-daf6f2eadaf1>\u001b[0m in \u001b[0;36m<module>\u001b[0;34m\u001b[0m\n\u001b[1;32m      3\u001b[0m \u001b[0;34m\u001b[0m\u001b[0m\n\u001b[1;32m      4\u001b[0m \u001b[0mprint\u001b[0m\u001b[0;34m(\u001b[0m\u001b[0mtup1\u001b[0m\u001b[0;34m[\u001b[0m\u001b[0;36m3\u001b[0m\u001b[0;34m]\u001b[0m\u001b[0;34m)\u001b[0m\u001b[0;34m\u001b[0m\u001b[0;34m\u001b[0m\u001b[0m\n\u001b[0;32m----> 5\u001b[0;31m \u001b[0mtup1\u001b[0m\u001b[0;34m[\u001b[0m\u001b[0;36m3\u001b[0m\u001b[0;34m]\u001b[0m \u001b[0;34m=\u001b[0m \u001b[0;34m'ELECTRICAL'\u001b[0m\u001b[0;34m\u001b[0m\u001b[0;34m\u001b[0m\u001b[0m\n\u001b[0m\u001b[1;32m      6\u001b[0m \u001b[0mprint\u001b[0m\u001b[0;34m(\u001b[0m\u001b[0;34m\"Updated value at location 3 : \"\u001b[0m\u001b[0;34m,\u001b[0m\u001b[0mtup1\u001b[0m\u001b[0;34m[\u001b[0m\u001b[0;36m3\u001b[0m\u001b[0;34m]\u001b[0m\u001b[0;34m)\u001b[0m\u001b[0;34m\u001b[0m\u001b[0;34m\u001b[0m\u001b[0m\n",
      "\u001b[0;31mTypeError\u001b[0m: 'tuple' object does not support item assignment"
     ]
    }
   ],
   "source": [
    "tup1 = ('CSE','IT','MECHANICAL','CIVIL')\n",
    "print(tup1)\n",
    "\n",
    "print(tup1[3])\n",
    "tup1[3] = 'ELECTRICAL'\n",
    "print(\"Updated value at location 3 : \",tup1[3])\n"
   ]
  },
  {
   "cell_type": "code",
   "execution_count": 8,
   "id": "677886e3",
   "metadata": {},
   "outputs": [
    {
     "name": "stdout",
     "output_type": "stream",
     "text": [
      "('CSE', 'IT', 'MECHANICAL', 'CIVIL')\n",
      "(1, 2)\n",
      "4\n",
      "2\n"
     ]
    }
   ],
   "source": [
    "tup1 = ('CSE','IT','MECHANICAL','CIVIL')\n",
    "print(tup1)\n",
    "tup2 = (1,2)\n",
    "print(tup2)\n",
    "print(len(tup1))\n",
    "print(len(tup2))\n"
   ]
  },
  {
   "cell_type": "code",
   "execution_count": 9,
   "id": "40cd0943",
   "metadata": {},
   "outputs": [
    {
     "name": "stdout",
     "output_type": "stream",
     "text": [
      "MECHANICAL\n",
      "ZEBRA\n",
      "CIVIL\n"
     ]
    }
   ],
   "source": [
    "tup1 = ('CSE','IT','MECHANICAL','CIVIL')\n",
    "print(max(tup1))\n",
    "tup1 = ('CSE','IT','MECHANICAL','CIVIL', 'ZEBRA')\n",
    "print(max(tup1))\n",
    "print(min(tup1))\n"
   ]
  },
  {
   "cell_type": "code",
   "execution_count": null,
   "id": "c5fb15b9",
   "metadata": {},
   "outputs": [],
   "source": []
  }
 ],
 "metadata": {
  "kernelspec": {
   "display_name": "Python 3",
   "language": "python",
   "name": "python3"
  },
  "language_info": {
   "codemirror_mode": {
    "name": "ipython",
    "version": 3
   },
   "file_extension": ".py",
   "mimetype": "text/x-python",
   "name": "python",
   "nbconvert_exporter": "python",
   "pygments_lexer": "ipython3",
   "version": "3.6.13"
  }
 },
 "nbformat": 4,
 "nbformat_minor": 5
}
