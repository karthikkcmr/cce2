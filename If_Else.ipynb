{
 "cells": [
  {
   "cell_type": "code",
   "execution_count": 1,
   "id": "fdae19f4",
   "metadata": {},
   "outputs": [
    {
     "name": "stdout",
     "output_type": "stream",
     "text": [
      "Enter the number : 4\n",
      "num is even\n",
      "bye!\n"
     ]
    }
   ],
   "source": [
    "n = int(input(\"Enter the number : \")) \n",
    "if n%2 == 0: \n",
    "    print(\"num is even\")\n",
    "print(\"bye!\")"
   ]
  },
  {
   "cell_type": "code",
   "execution_count": 2,
   "id": "1685b6ad",
   "metadata": {},
   "outputs": [
    {
     "name": "stdout",
     "output_type": "stream",
     "text": [
      "Enter a : 4\n",
      "Enter b : 6\n",
      "Enter c : 9\n",
      "c is largest\n"
     ]
    }
   ],
   "source": [
    "a = int(input(\"Enter a : \")); \n",
    "b = int(input(\"Enter b : \")); \n",
    "c = int(input(\"Enter c : \")); \n",
    "if a>b and a>c: \n",
    "    print(\"a is largest\"); \n",
    "if b>a and b>c: \n",
    "    print(\"b is largest\"); \n",
    "if c>a and c>b: \n",
    "    print(\"c is largest\"); "
   ]
  },
  {
   "cell_type": "code",
   "execution_count": 3,
   "id": "b01fca00",
   "metadata": {},
   "outputs": [
    {
     "name": "stdout",
     "output_type": "stream",
     "text": [
      "Enter your age : 20\n",
      "you are eligible to vote\n"
     ]
    }
   ],
   "source": [
    "age = int (input(\"Enter your age : \")) \n",
    "if age >= 18: \n",
    "    print(\"you are eligible to vote\"); \n",
    "else: \n",
    "    print(\"sorry you have to wait\"); "
   ]
  },
  {
   "cell_type": "code",
   "execution_count": 4,
   "id": "0de80e39",
   "metadata": {},
   "outputs": [
    {
     "name": "stdout",
     "output_type": "stream",
     "text": [
      "Enter the number 4\n",
      "number is even\n"
     ]
    }
   ],
   "source": [
    "n = int(input(\"Enter the number \")) \n",
    "if n % 2 == 0: \n",
    "    print(\"number is even\") \n",
    "else: \n",
    "    print(\"number is odd \")"
   ]
  },
  {
   "cell_type": "code",
   "execution_count": 5,
   "id": "711f863b",
   "metadata": {},
   "outputs": [
    {
     "name": "stdout",
     "output_type": "stream",
     "text": [
      "Enter the number 6\n",
      "num is not equal to 10, 50 or 100\n"
     ]
    }
   ],
   "source": [
    "n = int(input(\"Enter the number \")) \n",
    "if n ==10: \n",
    "    print(\"n is equals to 10\") \n",
    "elif n ==50: \n",
    "    print(\"n is equal to 50\"); \n",
    "elif n==100: \n",
    "    print(\"n is equal to 100\"); \n",
    "else: \n",
    "    print(\"num is not equal to 10, 50 or 100\"); \n"
   ]
  },
  {
   "cell_type": "code",
   "execution_count": 6,
   "id": "8af24991",
   "metadata": {},
   "outputs": [
    {
     "name": "stdout",
     "output_type": "stream",
     "text": [
      "Enter the marks 5\n",
      "fail :(\n"
     ]
    }
   ],
   "source": [
    "marks = int(input(\"Enter the marks \")) \n",
    "if marks >85 and marks <=100: \n",
    "    print(\"grade A\") \n",
    "elif marks >60 and marks <= 85: \n",
    "    print(\"grade B + \") \n",
    "elif marks > 40 and marks <= 60: \n",
    "    print(\"grade B \") \n",
    "elif (marks > 30 and marks <=40): \n",
    "    print(\"grade C \") \n",
    "else: \n",
    "    print(\"fail :(\")"
   ]
  },
  {
   "cell_type": "code",
   "execution_count": null,
   "id": "dede2002",
   "metadata": {},
   "outputs": [],
   "source": []
  }
 ],
 "metadata": {
  "kernelspec": {
   "display_name": "Python 3",
   "language": "python",
   "name": "python3"
  },
  "language_info": {
   "codemirror_mode": {
    "name": "ipython",
    "version": 3
   },
   "file_extension": ".py",
   "mimetype": "text/x-python",
   "name": "python",
   "nbconvert_exporter": "python",
   "pygments_lexer": "ipython3",
   "version": "3.6.13"
  }
 },
 "nbformat": 4,
 "nbformat_minor": 5
}
