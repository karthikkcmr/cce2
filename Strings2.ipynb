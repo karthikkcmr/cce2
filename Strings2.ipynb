{
 "cells": [
  {
   "cell_type": "code",
   "execution_count": 1,
   "id": "716d44c7",
   "metadata": {},
   "outputs": [
    {
     "name": "stdout",
     "output_type": "stream",
     "text": [
      "True\n",
      "False\n",
      "False\n"
     ]
    }
   ],
   "source": [
    "str = \"23456\"\n",
    "print(str.isdigit())\n",
    "str = \"4365 436\"\n",
    "print(str.isdigit())\n",
    "str = \"my name is usha\"\n",
    "print(str.isdigit())"
   ]
  },
  {
   "cell_type": "code",
   "execution_count": 2,
   "id": "24f45e0d",
   "metadata": {},
   "outputs": [
    {
     "name": "stdout",
     "output_type": "stream",
     "text": [
      "False\n",
      "True\n"
     ]
    }
   ],
   "source": [
    "str = \"USHA\"\n",
    "print(str.islower())\n",
    "str = \"usha\"\n",
    "print(str.islower())\n"
   ]
  },
  {
   "cell_type": "code",
   "execution_count": 3,
   "id": "f40488a0",
   "metadata": {},
   "outputs": [
    {
     "name": "stdout",
     "output_type": "stream",
     "text": [
      "False\n",
      "True\n"
     ]
    }
   ],
   "source": [
    "str = \"CMR University\"\n",
    "print(str.islower())\n",
    "str = \"cmr university\"\n",
    "print(str.islower())\n"
   ]
  },
  {
   "cell_type": "code",
   "execution_count": 4,
   "id": "6df6c453",
   "metadata": {},
   "outputs": [
    {
     "name": "stdout",
     "output_type": "stream",
     "text": [
      "False\n",
      "True\n"
     ]
    }
   ],
   "source": [
    "str = \"3454dhfd\"\n",
    "print(str.isnumeric())\n",
    "str = \"4345654\"\n",
    "print(str.isnumeric())"
   ]
  },
  {
   "cell_type": "code",
   "execution_count": 5,
   "id": "1389b8b8",
   "metadata": {},
   "outputs": [
    {
     "name": "stdout",
     "output_type": "stream",
     "text": [
      "True\n",
      "False\n"
     ]
    }
   ],
   "source": [
    "str = \" \"\n",
    "print(str.isspace())\n",
    "str = \"This is a string\"\n",
    "print(str.isspace())\n"
   ]
  },
  {
   "cell_type": "code",
   "execution_count": 6,
   "id": "69f931c4",
   "metadata": {},
   "outputs": [
    {
     "name": "stdout",
     "output_type": "stream",
     "text": [
      "True\n",
      "False\n"
     ]
    }
   ],
   "source": [
    "str = \"Python Programs\"\n",
    "print(str.istitle())\n",
    "str = \"python programs\"\n",
    "print(str.istitle())\n"
   ]
  },
  {
   "cell_type": "code",
   "execution_count": 7,
   "id": "bdd08c3d",
   "metadata": {},
   "outputs": [
    {
     "name": "stdout",
     "output_type": "stream",
     "text": [
      "True\n",
      "False\n"
     ]
    }
   ],
   "source": [
    "str = \"THIS IS A STRING\"\n",
    "print(str.isupper())\n",
    "str = \"THIS is a string\"\n",
    "print(str.isupper())\n"
   ]
  },
  {
   "cell_type": "code",
   "execution_count": 8,
   "id": "1b8bd18b",
   "metadata": {},
   "outputs": [
    {
     "name": "stdout",
     "output_type": "stream",
     "text": [
      "abc * * def * * ghi\n"
     ]
    }
   ],
   "source": [
    "#join() returns a string in which the string elements of sequence has been joined by str op\n",
    "str = \" * * \"\n",
    "seq = (\"abc\", \"def\", \"ghi\")\n",
    "print(str.join(seq))\n"
   ]
  },
  {
   "cell_type": "code",
   "execution_count": 9,
   "id": "d3b5793a",
   "metadata": {},
   "outputs": [
    {
     "name": "stdout",
     "output_type": "stream",
     "text": [
      "Length of the string is :  15\n"
     ]
    }
   ],
   "source": [
    "str = \"KOTHA USHA RANI\"\n",
    "print(\"Length of the string is : \", len(str))"
   ]
  },
  {
   "cell_type": "code",
   "execution_count": 10,
   "id": "937e8276",
   "metadata": {},
   "outputs": [
    {
     "name": "stdout",
     "output_type": "stream",
     "text": [
      "Artificial Intelligence\n",
      "Artificial Intelligence88888\n",
      "44444Artificial Intelligence\n"
     ]
    }
   ],
   "source": [
    "#lstrip() returns a copy of the string in which all chars have been strinpped from the begi\n",
    "str = \" Artificial Intelligence\"\n",
    "print(str.lstrip())\n",
    "str = \"44444Artificial Intelligence88888\"\n",
    "print(str.lstrip('4'))\n",
    "str = \"44444Artificial Intelligence88888\"\n",
    "print(str.rstrip('8'))\n"
   ]
  },
  {
   "cell_type": "code",
   "execution_count": 11,
   "id": "228b541d",
   "metadata": {},
   "outputs": [
    {
     "name": "stdout",
     "output_type": "stream",
     "text": [
      "python\n"
     ]
    }
   ],
   "source": [
    "str = \"PYTHON\"\n",
    "print(str.lower())\n"
   ]
  },
  {
   "cell_type": "code",
   "execution_count": 13,
   "id": "6221e375",
   "metadata": {},
   "outputs": [
    {
     "name": "stdout",
     "output_type": "stream",
     "text": [
      "largest character :  r\n",
      "largest character :  P\n"
     ]
    }
   ],
   "source": [
    "#returns largest character\n",
    "str = \"Programming\";\n",
    "print(\"largest character : \",max(str))\n",
    "str = \"DAP\"\n",
    "print(\"largest character : \",max(str))"
   ]
  },
  {
   "cell_type": "code",
   "execution_count": 14,
   "id": "de38c3d7",
   "metadata": {},
   "outputs": [
    {
     "name": "stdout",
     "output_type": "stream",
     "text": [
      "Min character : !\n",
      "Min character : -\n"
     ]
    }
   ],
   "source": [
    "str = \"Machine-Learning-Deep-Learning!\"\n",
    "print(\"Min character : \"+ min(str))\n",
    "str = \"Independence-day\"\n",
    "print(\"Min character : \"+ min(str))\n"
   ]
  },
  {
   "cell_type": "code",
   "execution_count": 15,
   "id": "d5be9a5e",
   "metadata": {},
   "outputs": [
    {
     "name": "stdout",
     "output_type": "stream",
     "text": [
      "I am studying\n",
      "I was playing\n"
     ]
    }
   ],
   "source": [
    "#str.replace(old, new[,max])\n",
    "str = \"I was studying\"\n",
    "print(str.replace(\"was\", \"am\"))\n",
    "print(str.replace(\"studying\", \"playing\", 3))"
   ]
  },
  {
   "cell_type": "code",
   "execution_count": 16,
   "id": "9bc2ea61",
   "metadata": {},
   "outputs": [
    {
     "name": "stdout",
     "output_type": "stream",
     "text": [
      "True\n",
      "True\n",
      "False\n",
      "True\n"
     ]
    }
   ],
   "source": [
    "str = \"this is a string\"\n",
    "print(str.startswith('this'))\n",
    "print(str.startswith('is', 2, 4))\n",
    "print(str.startswith('this', 2, 4))\n",
    "print(str.startswith('a', 8, 9))\n"
   ]
  },
  {
   "cell_type": "code",
   "execution_count": 17,
   "id": "128cdb7e",
   "metadata": {},
   "outputs": [
    {
     "name": "stdout",
     "output_type": "stream",
     "text": [
      "str.capitalize() :  ASIA IS A CONTINENT\n"
     ]
    }
   ],
   "source": [
    "str = \"Asia is a continent\"\n",
    "print(\"str.capitalize() : \",str.upper())"
   ]
  },
  {
   "cell_type": "code",
   "execution_count": 18,
   "id": "46e93436",
   "metadata": {},
   "outputs": [
    {
     "name": "stdout",
     "output_type": "stream",
     "text": [
      "if else statement\n",
      "IF ELSE STATEMENT\n"
     ]
    }
   ],
   "source": [
    "str = \"IF ELSE STATEMENT\"\n",
    "print(str.swapcase())\n",
    "str = \"if else statement\"\n",
    "print(str.swapcase())"
   ]
  },
  {
   "cell_type": "code",
   "execution_count": null,
   "id": "7a14602e",
   "metadata": {},
   "outputs": [],
   "source": []
  }
 ],
 "metadata": {
  "kernelspec": {
   "display_name": "Python 3",
   "language": "python",
   "name": "python3"
  },
  "language_info": {
   "codemirror_mode": {
    "name": "ipython",
    "version": 3
   },
   "file_extension": ".py",
   "mimetype": "text/x-python",
   "name": "python",
   "nbconvert_exporter": "python",
   "pygments_lexer": "ipython3",
   "version": "3.6.13"
  }
 },
 "nbformat": 4,
 "nbformat_minor": 5
}
